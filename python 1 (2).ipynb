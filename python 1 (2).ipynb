{
 "cells": [
  {
   "cell_type": "markdown",
   "metadata": {},
   "source": [
    "# Markdown Basics\n",
    "## Markdown Basics\n",
    "### Markdown Basics\n",
    "\n",
    "* **point1** (Bold)\n",
    "* *point2* (Italic)\n",
    "* ***point3*** (Bold and Italic)\n",
    "\n",
    "* Normal Text\n",
    " * Sublist 1\n",
    " *Sublist2\n",
    " \n",
    " >1. Point1\n",
    " >2. Point2\n",
    " \n",
    "* Google site -- [1]: http://www.google.com\n",
    "* msn site    -- [2]: http://www.msn.com\n",
    "\n",
    "- []option 1\n",
    "\n",
    "* Google site -- [Google].[1]\n",
    "[1]: http://www.google.com\n",
    "\n",
    "- []option 2\n",
    "\n",
    "* msn site -- [msn].[2]\n",
    "[2]: http://www.msn.com\n",
    "\n",
    "\n"
   ]
  },
  {
   "cell_type": "markdown",
   "metadata": {},
   "source": [
    "### Python Basics\n",
    "* Python version 3.7\n",
    "- Functional Programming\n",
    "- Object oriented Programming\n",
    "- Sripting Programming\n"
   ]
  },
  {
   "cell_type": "code",
   "execution_count": 3,
   "metadata": {},
   "outputs": [
    {
     "name": "stdout",
     "output_type": "stream",
     "text": [
      "Hello Gitam\n"
     ]
    }
   ],
   "source": [
    "print(\"Hello Gitam\")"
   ]
  },
  {
   "cell_type": "code",
   "execution_count": 4,
   "metadata": {},
   "outputs": [
    {
     "name": "stdout",
     "output_type": "stream",
     "text": [
      "Hyderabad\n"
     ]
    }
   ],
   "source": [
    "print(\"Hyderabad\")"
   ]
  },
  {
   "cell_type": "code",
   "execution_count": 13,
   "metadata": {},
   "outputs": [
    {
     "name": "stdout",
     "output_type": "stream",
     "text": [
      "Hello Gitam Hyderabad welcome ECE\n"
     ]
    }
   ],
   "source": [
    "print(\"Hello Gitam\",\"Hyderabad \",end =\"\")\n",
    "print(\"welcome \",end =\"\")\n",
    "print(\"ECE\")"
   ]
  },
  {
   "cell_type": "code",
   "execution_count": 44,
   "metadata": {},
   "outputs": [
    {
     "name": "stdout",
     "output_type": "stream",
     "text": [
      "100\n",
      "20 20 20\n",
      "111 222 333\n"
     ]
    }
   ],
   "source": [
    "n1=100\n",
    "a=b=c=20\n",
    "a1,b1,c1=111,222,333\n",
    "print(n1)\n",
    "print(a,b,c)\n",
    "print(a1,b1,c1)"
   ]
  },
  {
   "cell_type": "code",
   "execution_count": 43,
   "metadata": {},
   "outputs": [
    {
     "name": "stdout",
     "output_type": "stream",
     "text": [
      "1\n",
      "1 1\n",
      "1 1 1\n"
     ]
    }
   ],
   "source": [
    "n1=1\n",
    "print(n1)\n",
    "print(n1, n1)\n",
    "print(n1, n1, n1)"
   ]
  },
  {
   "cell_type": "code",
   "execution_count": 45,
   "metadata": {},
   "outputs": [
    {
     "name": "stdout",
     "output_type": "stream",
     "text": [
      "100 python p 19.1\n",
      "<class 'int'> <class 'str'> <class 'str'> <class 'float'>\n"
     ]
    }
   ],
   "source": [
    "a=100;\n",
    "s1=\"python\"\n",
    "s2='p'\n",
    "s3=19.1\n",
    "print(a,s1,s2,s3)\n",
    "print(type(a),type(s1),type(s2),type(s3))"
   ]
  },
  {
   "cell_type": "code",
   "execution_count": 1,
   "metadata": {},
   "outputs": [
    {
     "name": "stdout",
     "output_type": "stream",
     "text": [
      "5\n"
     ]
    }
   ],
   "source": [
    "n1=5\n",
    "n2=6\n",
    "a=b=c=d=300\n",
    "e=0\n",
    "print(n1)\n"
   ]
  },
  {
   "cell_type": "code",
   "execution_count": 2,
   "metadata": {},
   "outputs": [
    {
     "name": "stdout",
     "output_type": "stream",
     "text": [
      "<class 'int'>\n",
      "<class 'str'>\n",
      "<class 'float'>\n"
     ]
    }
   ],
   "source": [
    "i=100\n",
    "print(type(i))\n",
    "s1=str(i)\n",
    "print(type(s1))\n",
    "f1=float(i)\n",
    "print(type(f1))"
   ]
  },
  {
   "cell_type": "code",
   "execution_count": 5,
   "metadata": {},
   "outputs": [
    {
     "name": "stdout",
     "output_type": "stream",
     "text": [
      "<class 'str'>\n",
      "<class 'int'>\n",
      "<class 'int'>\n",
      "1\n"
     ]
    }
   ],
   "source": [
    "s1=\"100\"\n",
    "print(type(s1))\n",
    "a=int(s1)\n",
    "print(type(a))\n",
    "f=1.5\n",
    "a1=int(f)\n",
    "print(type(a1))\n",
    "print(a1)"
   ]
  },
  {
   "cell_type": "code",
   "execution_count": 7,
   "metadata": {},
   "outputs": [
    {
     "name": "stdout",
     "output_type": "stream",
     "text": [
      "4\n"
     ]
    }
   ],
   "source": [
    "# length of a string\n",
    "a1=1234\n",
    "print(len(str(a1)))"
   ]
  },
  {
   "cell_type": "code",
   "execution_count": 13,
   "metadata": {},
   "outputs": [
    {
     "name": "stdout",
     "output_type": "stream",
     "text": [
      "enter your namevinay\n",
      "vinay\n",
      "<class 'str'>\n"
     ]
    }
   ],
   "source": [
    "#Reading a value-input function\n",
    "s1=input(\"enter your name\")\n",
    "print(s1)\n",
    "print(type(s1))"
   ]
  },
  {
   "cell_type": "code",
   "execution_count": 16,
   "metadata": {},
   "outputs": [
    {
     "name": "stdout",
     "output_type": "stream",
     "text": [
      "enter a number19\n",
      "19 <class 'int'>\n"
     ]
    }
   ],
   "source": [
    "# want a number as input\n",
    "n1= int(input(\"enter a number\"))\n",
    "print(n1,type(n1))\n"
   ]
  },
  {
   "cell_type": "markdown",
   "metadata": {},
   "source": [
    "## Operators\n",
    "* operator is a symbols used to perform specific operations\n"
   ]
  },
  {
   "cell_type": "code",
   "execution_count": 18,
   "metadata": {
    "scrolled": true
   },
   "outputs": [
    {
     "name": "stdout",
     "output_type": "stream",
     "text": [
      "1244\n",
      "1224\n",
      "12340\n",
      "123.4\n",
      "4\n",
      "123\n",
      "8187505353567209228244052427776\n"
     ]
    }
   ],
   "source": [
    "n1=1234\n",
    "print(n1+10)\n",
    "print(n1-10)\n",
    "print(n1*10)\n",
    "print(n1/10)\n",
    "print(n1%10)\n",
    "print(n1//10)\n",
    "print(n1**10)"
   ]
  },
  {
   "cell_type": "raw",
   "metadata": {},
   "source": [
    "Precedence of the Arth operators\n",
    "\n",
    ".parenthesis\n",
    ".power\n",
    ".division\n",
    ".multiplication\n",
    ".addition\n",
    ".sub"
   ]
  },
  {
   "cell_type": "code",
   "execution_count": 19,
   "metadata": {},
   "outputs": [
    {
     "name": "stdout",
     "output_type": "stream",
     "text": [
      "8.0\n"
     ]
    }
   ],
   "source": [
    "x=1+2**3/4+5\n",
    "print(x)"
   ]
  },
  {
   "cell_type": "markdown",
   "metadata": {},
   "source": [
    "## Relation Operatos\n",
    "\n",
    ".==\n",
    ".!=\n",
    ".Greater(>)\n",
    ".less than(<)\n",
    ".less than and equals to(<=)\n",
    ".greater than and equals to(=>)"
   ]
  },
  {
   "cell_type": "markdown",
   "metadata": {},
   "source": [
    "## Logical Operators\n",
    " used to combine more than single comdition\n",
    " \n",
    " .and\n",
    " .or\n",
    " .not"
   ]
  },
  {
   "cell_type": "code",
   "execution_count": 20,
   "metadata": {},
   "outputs": [],
   "source": [
    "i=100\n",
    "a1= (i>15) and (i<75)\n",
    "a2= (i>15) and (i<150)\n"
   ]
  },
  {
   "cell_type": "code",
   "execution_count": 26,
   "metadata": {},
   "outputs": [
    {
     "name": "stdout",
     "output_type": "stream",
     "text": [
      "enter a number6\n",
      "even\n"
     ]
    }
   ],
   "source": [
    "#To check a given number is even or odd\n",
    "n= int(input(\"enter a number\"))\n",
    "if n%2 ==0:\n",
    "    print(\"even\")\n",
    "else:\n",
    "    print(\"odd\")"
   ]
  },
  {
   "cell_type": "code",
   "execution_count": 32,
   "metadata": {},
   "outputs": [
    {
     "name": "stdout",
     "output_type": "stream",
     "text": [
      "enter a number6\n",
      "no\n"
     ]
    }
   ],
   "source": [
    "#To check a given number is perfectly multiple of 3 and 5\n",
    "n=int(input(\"enter a number\"))\n",
    "if n%3==0 and n%5==0:\n",
    "    print(\"yes\")\n",
    "else:\n",
    "    print(\"no\")"
   ]
  },
  {
   "cell_type": "code",
   "execution_count": 29,
   "metadata": {},
   "outputs": [
    {
     "name": "stdout",
     "output_type": "stream",
     "text": [
      "enter a number5\n",
      "positive Number\n"
     ]
    }
   ],
   "source": [
    "# Test given number is positive,negative or zero\n",
    "n=int(input(\"enter a number\"))\n",
    "if n==0:\n",
    "    print(\"zero\")\n",
    "elif n>0:\n",
    "    print(\"positive Number\")\n",
    "elif n<0:\n",
    "    print(\"negative Number\")"
   ]
  },
  {
   "cell_type": "code",
   "execution_count": null,
   "metadata": {},
   "outputs": [],
   "source": []
  }
 ],
 "metadata": {
  "kernelspec": {
   "display_name": "Python 3",
   "language": "python",
   "name": "python3"
  },
  "language_info": {
   "codemirror_mode": {
    "name": "ipython",
    "version": 3
   },
   "file_extension": ".py",
   "mimetype": "text/x-python",
   "name": "python",
   "nbconvert_exporter": "python",
   "pygments_lexer": "ipython3",
   "version": "3.7.3"
  }
 },
 "nbformat": 4,
 "nbformat_minor": 2
}
